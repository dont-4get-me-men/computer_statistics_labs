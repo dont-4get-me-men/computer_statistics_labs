{
 "cells": [
  {
   "cell_type": "markdown",
   "id": "968dabfd",
   "metadata": {},
   "source": [
    "# Аналіз впливу у лінійній регресії"
   ]
  },
  {
   "cell_type": "markdown",
   "id": "c280fd87",
   "metadata": {},
   "source": [
    "## Yuriy Ryzhkin"
   ]
  },
  {
   "cell_type": "markdown",
   "id": "31ff75bd",
   "metadata": {},
   "source": [
    "### Варіант 4"
   ]
  },
  {
   "cell_type": "code",
   "execution_count": 17,
   "id": "ca8c0747",
   "metadata": {},
   "outputs": [],
   "source": [
    "# read file names from folder \n",
    "folder <- paste(getwd(),'/data',sep = '')\n",
    "filenames=list.files(path = folder,full.names=TRUE)"
   ]
  },
  {
   "cell_type": "code",
   "execution_count": 69,
   "id": "54cfaf44",
   "metadata": {},
   "outputs": [],
   "source": [
    "#create list with dataframes from /data folder\n",
    "datalist = lapply(filenames,\n",
    "                  function (x){\n",
    "                      a <- unlist(strsplit(x,'[_.]'));\n",
    "                      company <- a[length(a)-1];\n",
    "                      x0<- read.csv(x,header = F)[,c(1,6)];# using ol\n",
    "                      colnames(x0)<-c('date',company);\n",
    "                      x0;\n",
    "                  })\n",
    "#merge tables to one\n",
    "y<-Reduce(function(x,y) {merge(x,y,by=\"date\")}, datalist)"
   ]
  },
  {
   "cell_type": "code",
   "execution_count": 82,
   "id": "49498df1",
   "metadata": {},
   "outputs": [
    {
     "data": {
      "text/html": [
       "<table class=\"dataframe\">\n",
       "<caption>A data.frame: 6 × 11</caption>\n",
       "<thead>\n",
       "\t<tr><th></th><th scope=col>amgn</th><th scope=col>amp</th><th scope=col>amt</th><th scope=col>amzn</th><th scope=col>an</th><th scope=col>anf</th><th scope=col>aon</th><th scope=col>apa</th><th scope=col>apc</th><th scope=col>apd</th><th scope=col>tomorrow_apd</th></tr>\n",
       "\t<tr><th></th><th scope=col>&lt;dbl&gt;</th><th scope=col>&lt;dbl&gt;</th><th scope=col>&lt;dbl&gt;</th><th scope=col>&lt;dbl&gt;</th><th scope=col>&lt;dbl&gt;</th><th scope=col>&lt;dbl&gt;</th><th scope=col>&lt;dbl&gt;</th><th scope=col>&lt;dbl&gt;</th><th scope=col>&lt;dbl&gt;</th><th scope=col>&lt;dbl&gt;</th><th scope=col>&lt;dbl&gt;</th></tr>\n",
       "</thead>\n",
       "<tbody>\n",
       "\t<tr><th scope=row>1</th><td>76.6332</td><td>29.6218</td><td>24.1784</td><td>45.99</td><td>19.86</td><td>44.4525</td><td>28.5404</td><td>70.9727</td><td>45.7598</td><td>46.0207</td><td>46.3674</td></tr>\n",
       "\t<tr><th scope=row>2</th><td>77.1332</td><td>29.2406</td><td>24.0615</td><td>44.90</td><td>19.82</td><td>43.6285</td><td>28.6119</td><td>67.7776</td><td>43.4416</td><td>46.3674</td><td>45.0466</td></tr>\n",
       "\t<tr><th scope=row>3</th><td>75.1332</td><td>29.0327</td><td>23.4377</td><td>44.47</td><td>19.50</td><td>43.2032</td><td>28.8173</td><td>65.2821</td><td>42.0754</td><td>45.0466</td><td>44.7825</td></tr>\n",
       "\t<tr><th scope=row>4</th><td>72.9025</td><td>28.9114</td><td>23.3305</td><td>44.03</td><td>19.30</td><td>45.8170</td><td>28.3797</td><td>62.0681</td><td>41.9374</td><td>44.7825</td><td>45.3108</td></tr>\n",
       "\t<tr><th scope=row>5</th><td>74.0948</td><td>29.0240</td><td>23.5547</td><td>43.66</td><td>19.29</td><td>46.1359</td><td>28.4154</td><td>62.8432</td><td>42.7276</td><td>45.3108</td><td>44.8073</td></tr>\n",
       "\t<tr><th scope=row>6</th><td>73.8929</td><td>28.6428</td><td>23.0772</td><td>43.78</td><td>19.21</td><td>45.2056</td><td>27.9508</td><td>62.4178</td><td>42.4134</td><td>44.8073</td><td>44.6422</td></tr>\n",
       "</tbody>\n",
       "</table>\n"
      ],
      "text/latex": [
       "A data.frame: 6 × 11\n",
       "\\begin{tabular}{r|lllllllllll}\n",
       "  & amgn & amp & amt & amzn & an & anf & aon & apa & apc & apd & tomorrow\\_apd\\\\\n",
       "  & <dbl> & <dbl> & <dbl> & <dbl> & <dbl> & <dbl> & <dbl> & <dbl> & <dbl> & <dbl> & <dbl>\\\\\n",
       "\\hline\n",
       "\t1 & 76.6332 & 29.6218 & 24.1784 & 45.99 & 19.86 & 44.4525 & 28.5404 & 70.9727 & 45.7598 & 46.0207 & 46.3674\\\\\n",
       "\t2 & 77.1332 & 29.2406 & 24.0615 & 44.90 & 19.82 & 43.6285 & 28.6119 & 67.7776 & 43.4416 & 46.3674 & 45.0466\\\\\n",
       "\t3 & 75.1332 & 29.0327 & 23.4377 & 44.47 & 19.50 & 43.2032 & 28.8173 & 65.2821 & 42.0754 & 45.0466 & 44.7825\\\\\n",
       "\t4 & 72.9025 & 28.9114 & 23.3305 & 44.03 & 19.30 & 45.8170 & 28.3797 & 62.0681 & 41.9374 & 44.7825 & 45.3108\\\\\n",
       "\t5 & 74.0948 & 29.0240 & 23.5547 & 43.66 & 19.29 & 46.1359 & 28.4154 & 62.8432 & 42.7276 & 45.3108 & 44.8073\\\\\n",
       "\t6 & 73.8929 & 28.6428 & 23.0772 & 43.78 & 19.21 & 45.2056 & 27.9508 & 62.4178 & 42.4134 & 44.8073 & 44.6422\\\\\n",
       "\\end{tabular}\n"
      ],
      "text/markdown": [
       "\n",
       "A data.frame: 6 × 11\n",
       "\n",
       "| <!--/--> | amgn &lt;dbl&gt; | amp &lt;dbl&gt; | amt &lt;dbl&gt; | amzn &lt;dbl&gt; | an &lt;dbl&gt; | anf &lt;dbl&gt; | aon &lt;dbl&gt; | apa &lt;dbl&gt; | apc &lt;dbl&gt; | apd &lt;dbl&gt; | tomorrow_apd &lt;dbl&gt; |\n",
       "|---|---|---|---|---|---|---|---|---|---|---|---|\n",
       "| 1 | 76.6332 | 29.6218 | 24.1784 | 45.99 | 19.86 | 44.4525 | 28.5404 | 70.9727 | 45.7598 | 46.0207 | 46.3674 |\n",
       "| 2 | 77.1332 | 29.2406 | 24.0615 | 44.90 | 19.82 | 43.6285 | 28.6119 | 67.7776 | 43.4416 | 46.3674 | 45.0466 |\n",
       "| 3 | 75.1332 | 29.0327 | 23.4377 | 44.47 | 19.50 | 43.2032 | 28.8173 | 65.2821 | 42.0754 | 45.0466 | 44.7825 |\n",
       "| 4 | 72.9025 | 28.9114 | 23.3305 | 44.03 | 19.30 | 45.8170 | 28.3797 | 62.0681 | 41.9374 | 44.7825 | 45.3108 |\n",
       "| 5 | 74.0948 | 29.0240 | 23.5547 | 43.66 | 19.29 | 46.1359 | 28.4154 | 62.8432 | 42.7276 | 45.3108 | 44.8073 |\n",
       "| 6 | 73.8929 | 28.6428 | 23.0772 | 43.78 | 19.21 | 45.2056 | 27.9508 | 62.4178 | 42.4134 | 44.8073 | 44.6422 |\n",
       "\n"
      ],
      "text/plain": [
       "  amgn    amp     amt     amzn  an    anf     aon     apa     apc     apd    \n",
       "1 76.6332 29.6218 24.1784 45.99 19.86 44.4525 28.5404 70.9727 45.7598 46.0207\n",
       "2 77.1332 29.2406 24.0615 44.90 19.82 43.6285 28.6119 67.7776 43.4416 46.3674\n",
       "3 75.1332 29.0327 23.4377 44.47 19.50 43.2032 28.8173 65.2821 42.0754 45.0466\n",
       "4 72.9025 28.9114 23.3305 44.03 19.30 45.8170 28.3797 62.0681 41.9374 44.7825\n",
       "5 74.0948 29.0240 23.5547 43.66 19.29 46.1359 28.4154 62.8432 42.7276 45.3108\n",
       "6 73.8929 28.6428 23.0772 43.78 19.21 45.2056 27.9508 62.4178 42.4134 44.8073\n",
       "  tomorrow_apd\n",
       "1 46.3674     \n",
       "2 45.0466     \n",
       "3 44.7825     \n",
       "4 45.3108     \n",
       "5 44.8073     \n",
       "6 44.6422     "
      ]
     },
     "metadata": {},
     "output_type": "display_data"
    }
   ],
   "source": [
    "df<-y[-nrow(y),-1]\n",
    "df$tomorrow_apd <- y$apd[-1]\n",
    "head(df)\n",
    "#columns is closed prices of companies"
   ]
  },
  {
   "cell_type": "markdown",
   "id": "a900fe7a",
   "metadata": {},
   "source": [
    "Давайте спробуємо спрогнозувати завтрішню ціну компанії apd, використовуючи ціни 9 інших компаній.\n",
    "\n",
    "Lets try predict tomorrow price of apd company from other nine companies"
   ]
  },
  {
   "cell_type": "code",
   "execution_count": 105,
   "id": "1309fc40",
   "metadata": {},
   "outputs": [
    {
     "data": {
      "text/plain": [
       "\n",
       "Call:\n",
       "lm(formula = tomorrow_apd ~ . - tomorrow_apd - apd, data = df[(number_rows - \n",
       "    50):number_rows, ])\n",
       "\n",
       "Residuals:\n",
       "    Min      1Q  Median      3Q     Max \n",
       "-3.4701 -0.9844 -0.2693  1.2882  6.7459 \n",
       "\n",
       "Coefficients:\n",
       "            Estimate Std. Error t value Pr(>|t|)    \n",
       "(Intercept) 94.76930   28.01091   3.383 0.001586 ** \n",
       "amgn         0.50324    0.14089   3.572 0.000923 ***\n",
       "amp          1.93001    0.44679   4.320 9.68e-05 ***\n",
       "amt         -0.14082    0.20870  -0.675 0.503606    \n",
       "amzn        -0.07957    0.04901  -1.623 0.112171    \n",
       "an          -0.15408    0.41761  -0.369 0.714062    \n",
       "anf         -0.10216    0.32151  -0.318 0.752286    \n",
       "aon         -1.36207    0.57489  -2.369 0.022615 *  \n",
       "apa         -0.15864    0.23441  -0.677 0.502359    \n",
       "apc         -0.70754    0.31802  -2.225 0.031656 *  \n",
       "---\n",
       "Signif. codes:  0 ‘***’ 0.001 ‘**’ 0.01 ‘*’ 0.05 ‘.’ 0.1 ‘ ’ 1\n",
       "\n",
       "Residual standard error: 1.926 on 41 degrees of freedom\n",
       "Multiple R-squared:  0.8955,\tAdjusted R-squared:  0.8725 \n",
       "F-statistic: 39.03 on 9 and 41 DF,  p-value: < 2.2e-16\n"
      ]
     },
     "metadata": {},
     "output_type": "display_data"
    }
   ],
   "source": [
    "number_rows<-nrow(df)\n",
    "model_other_companies<-lm(tomorrow_apd~.-tomorrow_apd-apd,data=df[(number_rows-50):number_rows,])\n",
    "summary(model_other_companies)"
   ]
  },
  {
   "cell_type": "markdown",
   "id": "cdb24df8",
   "metadata": {},
   "source": [
    "Наше p-value: < 2.2e-16, що говорить нам про те, що наша ціна доволі сильно корелює з вчорашніми цінами авіакомпаній.\n",
    "Як ми бачимо у нас доволі непогана  метрика Multiple R-squared.\n",
    "Наша змінна значущо залежить від декількох регресорів , а саме apc,aon,amp,amgn. Рівень alpha беремо, як 0.05\n"
   ]
  },
  {
   "cell_type": "markdown",
   "id": "61b1641c",
   "metadata": {},
   "source": [
    "Давайте тепер спробуємо прибрати незначущі регресори і побудувати регресію вже на них"
   ]
  },
  {
   "cell_type": "code",
   "execution_count": 109,
   "id": "d045f695",
   "metadata": {},
   "outputs": [
    {
     "data": {
      "text/plain": [
       "\n",
       "Call:\n",
       "lm(formula = tomorrow_apd ~ apc + aon + amp + amgn, data = df[(number_rows - \n",
       "    50):number_rows, ])\n",
       "\n",
       "Residuals:\n",
       "    Min      1Q  Median      3Q     Max \n",
       "-3.6081 -1.2058 -0.3661  1.2199  6.5928 \n",
       "\n",
       "Coefficients:\n",
       "            Estimate Std. Error t value Pr(>|t|)    \n",
       "(Intercept)  74.7424    16.3116   4.582 3.52e-05 ***\n",
       "apc          -1.0057     0.2226  -4.517 4.35e-05 ***\n",
       "aon          -1.3375     0.5165  -2.590   0.0128 *  \n",
       "amp           1.7313     0.2654   6.524 4.73e-08 ***\n",
       "amgn          0.5304     0.1177   4.508 4.49e-05 ***\n",
       "---\n",
       "Signif. codes:  0 ‘***’ 0.001 ‘**’ 0.01 ‘*’ 0.05 ‘.’ 0.1 ‘ ’ 1\n",
       "\n",
       "Residual standard error: 1.925 on 46 degrees of freedom\n",
       "Multiple R-squared:  0.8829,\tAdjusted R-squared:  0.8728 \n",
       "F-statistic: 86.75 on 4 and 46 DF,  p-value: < 2.2e-16\n"
      ]
     },
     "metadata": {},
     "output_type": "display_data"
    }
   ],
   "source": [
    "model_signif_companies <-lm(tomorrow_apd~apc+aon+amp+amgn ,data=df[(number_rows-50):number_rows,])\n",
    "summary(model_signif_companies)"
   ]
  },
  {
   "cell_type": "markdown",
   "id": "6b8e76dd",
   "metadata": {},
   "source": [
    "Multiple R-squared ненабагато зменшився, що говорить, що в відкинутих регресорах було мало даних.\n",
    "\n",
    "Спробуємо тепер використати в прогнозуванні вчорашню ціну нашої компанії"
   ]
  },
  {
   "cell_type": "code",
   "execution_count": 110,
   "id": "0e2c3c42",
   "metadata": {},
   "outputs": [
    {
     "data": {
      "text/plain": [
       "\n",
       "Call:\n",
       "lm(formula = tomorrow_apd ~ . - tomorrow_apd, data = df[(number_rows - \n",
       "    50):number_rows, ])\n",
       "\n",
       "Residuals:\n",
       "    Min      1Q  Median      3Q     Max \n",
       "-2.4658 -0.7668 -0.1917  0.6829  6.1666 \n",
       "\n",
       "Coefficients:\n",
       "            Estimate Std. Error t value Pr(>|t|)    \n",
       "(Intercept) 46.32546   25.25717   1.834   0.0741 .  \n",
       "amgn         0.20742    0.13219   1.569   0.1245    \n",
       "amp          0.45083    0.48760   0.925   0.3607    \n",
       "amt         -0.15192    0.17100  -0.888   0.3796    \n",
       "amzn        -0.02942    0.04161  -0.707   0.4836    \n",
       "an          -0.30113    0.34363  -0.876   0.3861    \n",
       "anf          0.20647    0.27184   0.760   0.4520    \n",
       "aon         -0.51409    0.50590  -1.016   0.3156    \n",
       "apa         -0.21741    0.19247  -1.130   0.2654    \n",
       "apc         -0.02170    0.30032  -0.072   0.9428    \n",
       "apd          0.71306    0.15529   4.592  4.3e-05 ***\n",
       "---\n",
       "Signif. codes:  0 ‘***’ 0.001 ‘**’ 0.01 ‘*’ 0.05 ‘.’ 0.1 ‘ ’ 1\n",
       "\n",
       "Residual standard error: 1.578 on 40 degrees of freedom\n",
       "Multiple R-squared:  0.9316,\tAdjusted R-squared:  0.9145 \n",
       "F-statistic: 54.45 on 10 and 40 DF,  p-value: < 2.2e-16\n"
      ]
     },
     "metadata": {},
     "output_type": "display_data"
    }
   ],
   "source": [
    "model_all <-lm(tomorrow_apd~.-tomorrow_apd,data=df[(number_rows-50):number_rows,])\n",
    "summary(model_all)"
   ]
  },
  {
   "cell_type": "markdown",
   "id": "1f25cf8d",
   "metadata": {},
   "source": [
    "Показник Multiple R-squared збільшився, але при цьому знащучим в прогнозуванні виявився лише один регресор, а саме apd,або сьогоднішня ціна на нашу компанію.\n",
    "\n",
    "Спробуємо тепер використати лише вчорашню ціну"
   ]
  },
  {
   "cell_type": "code",
   "execution_count": 111,
   "id": "7a4638b6",
   "metadata": {},
   "outputs": [
    {
     "data": {
      "text/plain": [
       "\n",
       "Call:\n",
       "lm(formula = tomorrow_apd ~ apd, data = df[(number_rows - 50):number_rows, \n",
       "    ])\n",
       "\n",
       "Residuals:\n",
       "    Min      1Q  Median      3Q     Max \n",
       "-3.0942 -0.5212 -0.0511  0.3741  6.3387 \n",
       "\n",
       "Coefficients:\n",
       "            Estimate Std. Error t value Pr(>|t|)    \n",
       "(Intercept)  1.99613    4.11481   0.485     0.63    \n",
       "apd          0.98205    0.04219  23.276   <2e-16 ***\n",
       "---\n",
       "Signif. codes:  0 ‘***’ 0.001 ‘**’ 0.01 ‘*’ 0.05 ‘.’ 0.1 ‘ ’ 1\n",
       "\n",
       "Residual standard error: 1.57 on 49 degrees of freedom\n",
       "Multiple R-squared:  0.9171,\tAdjusted R-squared:  0.9154 \n",
       "F-statistic: 541.8 on 1 and 49 DF,  p-value: < 2.2e-16\n"
      ]
     },
     "metadata": {},
     "output_type": "display_data"
    }
   ],
   "source": [
    "model_all <-lm(tomorrow_apd~apd,data=df[(number_rows-50):number_rows,])\n",
    "summary(model_all)"
   ]
  },
  {
   "cell_type": "markdown",
   "id": "8357c05d",
   "metadata": {},
   "source": [
    "Наше припущення справдилось. Дійсно, наша завтрішня ціна доволі сильно корелює з нашою сьогоднішньою. При цьому судячи по відносно невеликому зміненні Multiple R-squared інші регресори все таки не сильно впливають на нашу модель."
   ]
  },
  {
   "cell_type": "code",
   "execution_count": null,
   "id": "8fa3fa71",
   "metadata": {},
   "outputs": [],
   "source": []
  }
 ],
 "metadata": {
  "kernelspec": {
   "display_name": "R",
   "language": "R",
   "name": "ir"
  },
  "language_info": {
   "codemirror_mode": "r",
   "file_extension": ".r",
   "mimetype": "text/x-r-source",
   "name": "R",
   "pygments_lexer": "r",
   "version": "4.2.1"
  }
 },
 "nbformat": 4,
 "nbformat_minor": 5
}
