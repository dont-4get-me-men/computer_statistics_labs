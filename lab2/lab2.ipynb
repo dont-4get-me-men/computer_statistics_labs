{
 "cells": [
  {
   "cell_type": "markdown",
   "id": "83e2fea6",
   "metadata": {},
   "source": [
    "# Регресія на головні компоненти"
   ]
  },
  {
   "cell_type": "markdown",
   "id": "85d1c2ab",
   "metadata": {},
   "source": [
    "## Yuriy Ryzkin"
   ]
  },
  {
   "cell_type": "markdown",
   "id": "d1faf18e",
   "metadata": {},
   "source": [
    "### Варіант 4"
   ]
  },
  {
   "cell_type": "code",
   "execution_count": 31,
   "id": "8b9c07c1",
   "metadata": {},
   "outputs": [],
   "source": [
    "library(Metrics)"
   ]
  },
  {
   "cell_type": "code",
   "execution_count": 2,
   "id": "310f77e9",
   "metadata": {},
   "outputs": [],
   "source": [
    "path_to_folder <- paste(dirname(getwd()),'/lab1/data',sep = '')\n",
    "filenames = list.files(path = path_to_folder,full.names = TRUE)"
   ]
  },
  {
   "cell_type": "code",
   "execution_count": 3,
   "id": "0d7d7e85",
   "metadata": {},
   "outputs": [],
   "source": [
    "#create list with dataframes from /data folder\n",
    "datalist = lapply(filenames,\n",
    "                  function (x){\n",
    "                      a <- unlist(strsplit(x,'[_.]'));\n",
    "                      company <- a[length(a)-1];\n",
    "                      x0<- read.csv(x,header = F)[,c(1,6)];# using ol\n",
    "                      colnames(x0)<-c('date',company);\n",
    "                      x0;\n",
    "                  })\n",
    "#merge tables to one\n",
    "y<-Reduce(function(x,y) {merge(x,y,by=\"date\")}, datalist)"
   ]
  },
  {
   "cell_type": "code",
   "execution_count": 4,
   "id": "3edcdaf1",
   "metadata": {},
   "outputs": [
    {
     "data": {
      "text/html": [
       "<table class=\"dataframe\">\n",
       "<caption>A data.frame: 6 × 11</caption>\n",
       "<thead>\n",
       "\t<tr><th></th><th scope=col>amgn</th><th scope=col>amp</th><th scope=col>amt</th><th scope=col>amzn</th><th scope=col>an</th><th scope=col>anf</th><th scope=col>aon</th><th scope=col>apa</th><th scope=col>apc</th><th scope=col>apd</th><th scope=col>tomorrow_apd</th></tr>\n",
       "\t<tr><th></th><th scope=col>&lt;dbl&gt;</th><th scope=col>&lt;dbl&gt;</th><th scope=col>&lt;dbl&gt;</th><th scope=col>&lt;dbl&gt;</th><th scope=col>&lt;dbl&gt;</th><th scope=col>&lt;dbl&gt;</th><th scope=col>&lt;dbl&gt;</th><th scope=col>&lt;dbl&gt;</th><th scope=col>&lt;dbl&gt;</th><th scope=col>&lt;dbl&gt;</th><th scope=col>&lt;dbl&gt;</th></tr>\n",
       "</thead>\n",
       "<tbody>\n",
       "\t<tr><th scope=row>1</th><td>76.6332</td><td>29.6218</td><td>24.1784</td><td>45.99</td><td>19.86</td><td>44.4525</td><td>28.5404</td><td>70.9727</td><td>45.7598</td><td>46.0207</td><td>46.3674</td></tr>\n",
       "\t<tr><th scope=row>2</th><td>77.1332</td><td>29.2406</td><td>24.0615</td><td>44.90</td><td>19.82</td><td>43.6285</td><td>28.6119</td><td>67.7776</td><td>43.4416</td><td>46.3674</td><td>45.0466</td></tr>\n",
       "\t<tr><th scope=row>3</th><td>75.1332</td><td>29.0327</td><td>23.4377</td><td>44.47</td><td>19.50</td><td>43.2032</td><td>28.8173</td><td>65.2821</td><td>42.0754</td><td>45.0466</td><td>44.7825</td></tr>\n",
       "\t<tr><th scope=row>4</th><td>72.9025</td><td>28.9114</td><td>23.3305</td><td>44.03</td><td>19.30</td><td>45.8170</td><td>28.3797</td><td>62.0681</td><td>41.9374</td><td>44.7825</td><td>45.3108</td></tr>\n",
       "\t<tr><th scope=row>5</th><td>74.0948</td><td>29.0240</td><td>23.5547</td><td>43.66</td><td>19.29</td><td>46.1359</td><td>28.4154</td><td>62.8432</td><td>42.7276</td><td>45.3108</td><td>44.8073</td></tr>\n",
       "\t<tr><th scope=row>6</th><td>73.8929</td><td>28.6428</td><td>23.0772</td><td>43.78</td><td>19.21</td><td>45.2056</td><td>27.9508</td><td>62.4178</td><td>42.4134</td><td>44.8073</td><td>44.6422</td></tr>\n",
       "</tbody>\n",
       "</table>\n"
      ],
      "text/latex": [
       "A data.frame: 6 × 11\n",
       "\\begin{tabular}{r|lllllllllll}\n",
       "  & amgn & amp & amt & amzn & an & anf & aon & apa & apc & apd & tomorrow\\_apd\\\\\n",
       "  & <dbl> & <dbl> & <dbl> & <dbl> & <dbl> & <dbl> & <dbl> & <dbl> & <dbl> & <dbl> & <dbl>\\\\\n",
       "\\hline\n",
       "\t1 & 76.6332 & 29.6218 & 24.1784 & 45.99 & 19.86 & 44.4525 & 28.5404 & 70.9727 & 45.7598 & 46.0207 & 46.3674\\\\\n",
       "\t2 & 77.1332 & 29.2406 & 24.0615 & 44.90 & 19.82 & 43.6285 & 28.6119 & 67.7776 & 43.4416 & 46.3674 & 45.0466\\\\\n",
       "\t3 & 75.1332 & 29.0327 & 23.4377 & 44.47 & 19.50 & 43.2032 & 28.8173 & 65.2821 & 42.0754 & 45.0466 & 44.7825\\\\\n",
       "\t4 & 72.9025 & 28.9114 & 23.3305 & 44.03 & 19.30 & 45.8170 & 28.3797 & 62.0681 & 41.9374 & 44.7825 & 45.3108\\\\\n",
       "\t5 & 74.0948 & 29.0240 & 23.5547 & 43.66 & 19.29 & 46.1359 & 28.4154 & 62.8432 & 42.7276 & 45.3108 & 44.8073\\\\\n",
       "\t6 & 73.8929 & 28.6428 & 23.0772 & 43.78 & 19.21 & 45.2056 & 27.9508 & 62.4178 & 42.4134 & 44.8073 & 44.6422\\\\\n",
       "\\end{tabular}\n"
      ],
      "text/markdown": [
       "\n",
       "A data.frame: 6 × 11\n",
       "\n",
       "| <!--/--> | amgn &lt;dbl&gt; | amp &lt;dbl&gt; | amt &lt;dbl&gt; | amzn &lt;dbl&gt; | an &lt;dbl&gt; | anf &lt;dbl&gt; | aon &lt;dbl&gt; | apa &lt;dbl&gt; | apc &lt;dbl&gt; | apd &lt;dbl&gt; | tomorrow_apd &lt;dbl&gt; |\n",
       "|---|---|---|---|---|---|---|---|---|---|---|---|\n",
       "| 1 | 76.6332 | 29.6218 | 24.1784 | 45.99 | 19.86 | 44.4525 | 28.5404 | 70.9727 | 45.7598 | 46.0207 | 46.3674 |\n",
       "| 2 | 77.1332 | 29.2406 | 24.0615 | 44.90 | 19.82 | 43.6285 | 28.6119 | 67.7776 | 43.4416 | 46.3674 | 45.0466 |\n",
       "| 3 | 75.1332 | 29.0327 | 23.4377 | 44.47 | 19.50 | 43.2032 | 28.8173 | 65.2821 | 42.0754 | 45.0466 | 44.7825 |\n",
       "| 4 | 72.9025 | 28.9114 | 23.3305 | 44.03 | 19.30 | 45.8170 | 28.3797 | 62.0681 | 41.9374 | 44.7825 | 45.3108 |\n",
       "| 5 | 74.0948 | 29.0240 | 23.5547 | 43.66 | 19.29 | 46.1359 | 28.4154 | 62.8432 | 42.7276 | 45.3108 | 44.8073 |\n",
       "| 6 | 73.8929 | 28.6428 | 23.0772 | 43.78 | 19.21 | 45.2056 | 27.9508 | 62.4178 | 42.4134 | 44.8073 | 44.6422 |\n",
       "\n"
      ],
      "text/plain": [
       "  amgn    amp     amt     amzn  an    anf     aon     apa     apc     apd    \n",
       "1 76.6332 29.6218 24.1784 45.99 19.86 44.4525 28.5404 70.9727 45.7598 46.0207\n",
       "2 77.1332 29.2406 24.0615 44.90 19.82 43.6285 28.6119 67.7776 43.4416 46.3674\n",
       "3 75.1332 29.0327 23.4377 44.47 19.50 43.2032 28.8173 65.2821 42.0754 45.0466\n",
       "4 72.9025 28.9114 23.3305 44.03 19.30 45.8170 28.3797 62.0681 41.9374 44.7825\n",
       "5 74.0948 29.0240 23.5547 43.66 19.29 46.1359 28.4154 62.8432 42.7276 45.3108\n",
       "6 73.8929 28.6428 23.0772 43.78 19.21 45.2056 27.9508 62.4178 42.4134 44.8073\n",
       "  tomorrow_apd\n",
       "1 46.3674     \n",
       "2 45.0466     \n",
       "3 44.7825     \n",
       "4 45.3108     \n",
       "5 44.8073     \n",
       "6 44.6422     "
      ]
     },
     "metadata": {},
     "output_type": "display_data"
    }
   ],
   "source": [
    "df<-y[-nrow(y),-1]\n",
    "df$tomorrow_apd <- y$apd[-1]\n",
    "number_rows<-nrow(df)\n",
    "\n",
    "head(df)"
   ]
  },
  {
   "cell_type": "code",
   "execution_count": 6,
   "id": "3af872b0",
   "metadata": {},
   "outputs": [],
   "source": [
    "data_test <- df[(number_rows-19):number_rows,]\n",
    "data_model1 <- df[0:(number_rows-20),]\n",
    "data_model2 <- df[(number_rows-69):(number_rows-20),]"
   ]
  },
  {
   "cell_type": "markdown",
   "id": "f27ea829",
   "metadata": {},
   "source": [
    "Минулого разу ми прогнозували ціну tomorrow_apd використовуючи всі інші дані. Цього разу прогнозувати будемо ту ж змінну"
   ]
  },
  {
   "cell_type": "code",
   "execution_count": 7,
   "id": "65df25a1",
   "metadata": {},
   "outputs": [
    {
     "data": {
      "text/html": [
       "<table class=\"dataframe\">\n",
       "<caption>A data.frame: 6 × 9</caption>\n",
       "<thead>\n",
       "\t<tr><th></th><th scope=col>amgn</th><th scope=col>amp</th><th scope=col>amt</th><th scope=col>amzn</th><th scope=col>an</th><th scope=col>anf</th><th scope=col>aon</th><th scope=col>apa</th><th scope=col>apc</th></tr>\n",
       "\t<tr><th></th><th scope=col>&lt;dbl&gt;</th><th scope=col>&lt;dbl&gt;</th><th scope=col>&lt;dbl&gt;</th><th scope=col>&lt;dbl&gt;</th><th scope=col>&lt;dbl&gt;</th><th scope=col>&lt;dbl&gt;</th><th scope=col>&lt;dbl&gt;</th><th scope=col>&lt;dbl&gt;</th><th scope=col>&lt;dbl&gt;</th></tr>\n",
       "</thead>\n",
       "<tbody>\n",
       "\t<tr><th scope=row>1</th><td>76.6332</td><td>29.6218</td><td>24.1784</td><td>45.99</td><td>19.86</td><td>44.4525</td><td>28.5404</td><td>70.9727</td><td>45.7598</td></tr>\n",
       "\t<tr><th scope=row>2</th><td>77.1332</td><td>29.2406</td><td>24.0615</td><td>44.90</td><td>19.82</td><td>43.6285</td><td>28.6119</td><td>67.7776</td><td>43.4416</td></tr>\n",
       "\t<tr><th scope=row>3</th><td>75.1332</td><td>29.0327</td><td>23.4377</td><td>44.47</td><td>19.50</td><td>43.2032</td><td>28.8173</td><td>65.2821</td><td>42.0754</td></tr>\n",
       "\t<tr><th scope=row>4</th><td>72.9025</td><td>28.9114</td><td>23.3305</td><td>44.03</td><td>19.30</td><td>45.8170</td><td>28.3797</td><td>62.0681</td><td>41.9374</td></tr>\n",
       "\t<tr><th scope=row>5</th><td>74.0948</td><td>29.0240</td><td>23.5547</td><td>43.66</td><td>19.29</td><td>46.1359</td><td>28.4154</td><td>62.8432</td><td>42.7276</td></tr>\n",
       "\t<tr><th scope=row>6</th><td>73.8929</td><td>28.6428</td><td>23.0772</td><td>43.78</td><td>19.21</td><td>45.2056</td><td>27.9508</td><td>62.4178</td><td>42.4134</td></tr>\n",
       "</tbody>\n",
       "</table>\n"
      ],
      "text/latex": [
       "A data.frame: 6 × 9\n",
       "\\begin{tabular}{r|lllllllll}\n",
       "  & amgn & amp & amt & amzn & an & anf & aon & apa & apc\\\\\n",
       "  & <dbl> & <dbl> & <dbl> & <dbl> & <dbl> & <dbl> & <dbl> & <dbl> & <dbl>\\\\\n",
       "\\hline\n",
       "\t1 & 76.6332 & 29.6218 & 24.1784 & 45.99 & 19.86 & 44.4525 & 28.5404 & 70.9727 & 45.7598\\\\\n",
       "\t2 & 77.1332 & 29.2406 & 24.0615 & 44.90 & 19.82 & 43.6285 & 28.6119 & 67.7776 & 43.4416\\\\\n",
       "\t3 & 75.1332 & 29.0327 & 23.4377 & 44.47 & 19.50 & 43.2032 & 28.8173 & 65.2821 & 42.0754\\\\\n",
       "\t4 & 72.9025 & 28.9114 & 23.3305 & 44.03 & 19.30 & 45.8170 & 28.3797 & 62.0681 & 41.9374\\\\\n",
       "\t5 & 74.0948 & 29.0240 & 23.5547 & 43.66 & 19.29 & 46.1359 & 28.4154 & 62.8432 & 42.7276\\\\\n",
       "\t6 & 73.8929 & 28.6428 & 23.0772 & 43.78 & 19.21 & 45.2056 & 27.9508 & 62.4178 & 42.4134\\\\\n",
       "\\end{tabular}\n"
      ],
      "text/markdown": [
       "\n",
       "A data.frame: 6 × 9\n",
       "\n",
       "| <!--/--> | amgn &lt;dbl&gt; | amp &lt;dbl&gt; | amt &lt;dbl&gt; | amzn &lt;dbl&gt; | an &lt;dbl&gt; | anf &lt;dbl&gt; | aon &lt;dbl&gt; | apa &lt;dbl&gt; | apc &lt;dbl&gt; |\n",
       "|---|---|---|---|---|---|---|---|---|---|\n",
       "| 1 | 76.6332 | 29.6218 | 24.1784 | 45.99 | 19.86 | 44.4525 | 28.5404 | 70.9727 | 45.7598 |\n",
       "| 2 | 77.1332 | 29.2406 | 24.0615 | 44.90 | 19.82 | 43.6285 | 28.6119 | 67.7776 | 43.4416 |\n",
       "| 3 | 75.1332 | 29.0327 | 23.4377 | 44.47 | 19.50 | 43.2032 | 28.8173 | 65.2821 | 42.0754 |\n",
       "| 4 | 72.9025 | 28.9114 | 23.3305 | 44.03 | 19.30 | 45.8170 | 28.3797 | 62.0681 | 41.9374 |\n",
       "| 5 | 74.0948 | 29.0240 | 23.5547 | 43.66 | 19.29 | 46.1359 | 28.4154 | 62.8432 | 42.7276 |\n",
       "| 6 | 73.8929 | 28.6428 | 23.0772 | 43.78 | 19.21 | 45.2056 | 27.9508 | 62.4178 | 42.4134 |\n",
       "\n"
      ],
      "text/plain": [
       "  amgn    amp     amt     amzn  an    anf     aon     apa     apc    \n",
       "1 76.6332 29.6218 24.1784 45.99 19.86 44.4525 28.5404 70.9727 45.7598\n",
       "2 77.1332 29.2406 24.0615 44.90 19.82 43.6285 28.6119 67.7776 43.4416\n",
       "3 75.1332 29.0327 23.4377 44.47 19.50 43.2032 28.8173 65.2821 42.0754\n",
       "4 72.9025 28.9114 23.3305 44.03 19.30 45.8170 28.3797 62.0681 41.9374\n",
       "5 74.0948 29.0240 23.5547 43.66 19.29 46.1359 28.4154 62.8432 42.7276\n",
       "6 73.8929 28.6428 23.0772 43.78 19.21 45.2056 27.9508 62.4178 42.4134"
      ]
     },
     "metadata": {},
     "output_type": "display_data"
    }
   ],
   "source": [
    "head(data_model1[,1:9])"
   ]
  },
  {
   "cell_type": "markdown",
   "id": "bcb50fbf",
   "metadata": {},
   "source": [
    "Беремо всі дані без даних за сьогоднішу ціну прогнозованої компанії, а також без вчорашнього. Поміщаємо це в X_train. Y_train - це те, що ми хочемо спрогнозувати"
   ]
  },
  {
   "cell_type": "code",
   "execution_count": 8,
   "id": "96e9df6c",
   "metadata": {},
   "outputs": [],
   "source": [
    "data_model1_X_train <- data_model1[,1:9]\n",
    "data_model2_X_train <- data_model2[,1:9]\n",
    "data_model1_Y_train <- data_model1[,11]\n",
    "data_model2_Y_train <- data_model2[,11]"
   ]
  },
  {
   "cell_type": "code",
   "execution_count": 9,
   "id": "8b04cf26",
   "metadata": {},
   "outputs": [
    {
     "data": {
      "text/plain": [
       "Importance of components:\n",
       "                          Comp.1    Comp.2    Comp.3    Comp.4     Comp.5\n",
       "Standard deviation     2.3338095 1.2753232 1.1042033 0.5091125 0.42736009\n",
       "Proportion of Variance 0.6051852 0.1807166 0.1354739 0.0287995 0.02029296\n",
       "Cumulative Proportion  0.6051852 0.7859018 0.9213757 0.9501752 0.97046814\n",
       "                           Comp.6      Comp.7      Comp.8      Comp.9\n",
       "Standard deviation     0.34661860 0.244554450 0.232846653 0.177814149\n",
       "Proportion of Variance 0.01334938 0.006645209 0.006024174 0.003513097\n",
       "Cumulative Proportion  0.98381752 0.990462729 0.996486903 1.000000000"
      ]
     },
     "metadata": {},
     "output_type": "display_data"
    }
   ],
   "source": [
    "PC_1 <- princomp(data_model1_X_train,cor =  T)\n",
    "summary(PC_1)"
   ]
  },
  {
   "cell_type": "code",
   "execution_count": 10,
   "id": "b07bce4a",
   "metadata": {},
   "outputs": [
    {
     "data": {
      "image/png": "[encoded data removed]",
      "text/plain": [
       "Plot with title “PC_1”"
      ]
     },
     "metadata": {
      "image/png": {
       "height": 420,
       "width": 420
      }
     },
     "output_type": "display_data"
    }
   ],
   "source": [
    "plot(PC_1)"
   ]
  },
  {
   "cell_type": "code",
   "execution_count": 11,
   "id": "53777d96",
   "metadata": {},
   "outputs": [
    {
     "data": {
      "text/plain": [
       "Importance of components:\n",
       "                          Comp.1    Comp.2     Comp.3     Comp.4     Comp.5\n",
       "Standard deviation     1.9706957 1.8174491 0.82283239 0.73265507 0.53669983\n",
       "Proportion of Variance 0.4315157 0.3670135 0.07522813 0.05964261 0.03200519\n",
       "Cumulative Proportion  0.4315157 0.7985292 0.87375736 0.93339997 0.96540516\n",
       "                           Comp.6      Comp.7      Comp.8      Comp.9\n",
       "Standard deviation     0.37925394 0.271733883 0.222747023 0.209915463\n",
       "Proportion of Variance 0.01598151 0.008204367 0.005512915 0.004896056\n",
       "Cumulative Proportion  0.98138666 0.989591029 0.995103944 1.000000000"
      ]
     },
     "metadata": {},
     "output_type": "display_data"
    }
   ],
   "source": [
    "PC_2 <- princomp(data_model2_X_train,cor =  T)\n",
    "summary(PC_2)"
   ]
  },
  {
   "cell_type": "code",
   "execution_count": 12,
   "id": "73e83eef",
   "metadata": {},
   "outputs": [
    {
     "data": {
      "image/png": "[encoded data removed]",
      "text/plain": [
       "Plot with title “PC_2”"
      ]
     },
     "metadata": {
      "image/png": {
       "height": 420,
       "width": 420
      }
     },
     "output_type": "display_data"
    }
   ],
   "source": [
    "plot(PC_2)"
   ]
  },
  {
   "cell_type": "code",
   "execution_count": 13,
   "id": "aadbca86",
   "metadata": {},
   "outputs": [
    {
     "data": {
      "text/plain": [
       "\n",
       "Loadings:\n",
       "     Comp.1 Comp.2 Comp.3 Comp.4 Comp.5 Comp.6 Comp.7 Comp.8 Comp.9\n",
       "amgn  0.444  0.113  0.161  0.426         0.692         0.285       \n",
       "amp         -0.538                       0.145  0.176 -0.314  0.744\n",
       "amt   0.457  0.184  0.227               -0.120  0.345 -0.730 -0.189\n",
       "amzn -0.236 -0.425 -0.343  0.248 -0.408  0.232  0.350        -0.487\n",
       "an    0.385 -0.148 -0.513 -0.504  0.201  0.316 -0.336 -0.155 -0.189\n",
       "anf   0.438         0.108 -0.337 -0.714 -0.163         0.335  0.146\n",
       "aon   0.221 -0.438  0.203  0.445        -0.222 -0.657 -0.121 -0.134\n",
       "apa  -0.166 -0.370  0.688 -0.432  0.160  0.264               -0.278\n",
       "apc   0.346 -0.351 -0.111         0.491 -0.432  0.408  0.361 -0.124\n",
       "\n",
       "               Comp.1 Comp.2 Comp.3 Comp.4 Comp.5 Comp.6 Comp.7 Comp.8 Comp.9\n",
       "SS loadings     1.000  1.000  1.000  1.000  1.000  1.000  1.000  1.000  1.000\n",
       "Proportion Var  0.111  0.111  0.111  0.111  0.111  0.111  0.111  0.111  0.111\n",
       "Cumulative Var  0.111  0.222  0.333  0.444  0.556  0.667  0.778  0.889  1.000"
      ]
     },
     "metadata": {},
     "output_type": "display_data"
    }
   ],
   "source": [
    "loadings(PC_2)"
   ]
  },
  {
   "cell_type": "markdown",
   "id": "b2bec6a5",
   "metadata": {},
   "source": [
    "Судячи з даних варто спробувати використати регресію на 4 компоненти"
   ]
  },
  {
   "cell_type": "code",
   "execution_count": 95,
   "id": "1ca26e23",
   "metadata": {},
   "outputs": [
    {
     "data": {
      "text/plain": [
       "\n",
       "Call:\n",
       "lm(formula = data_model1_Y_train ~ first + second + third + forth, \n",
       "    data = data1)\n",
       "\n",
       "Coefficients:\n",
       "(Intercept)        first       second        third        forth  \n",
       "    71.0899       4.6994      -5.1897       0.2137       1.8452  \n"
      ]
     },
     "metadata": {},
     "output_type": "display_data"
    }
   ],
   "source": [
    "data1 <- data.frame(PC_1$scores)\n",
    "\n",
    "colnames(data1) <- c('first','second','third','forth','5','6','7','8','9')\n",
    "\n",
    "model_1 <- lm(data_model1_Y_train~first+second+third+forth,data = data1)\n",
    "model_1"
   ]
  },
  {
   "cell_type": "code",
   "execution_count": 96,
   "id": "a713547b",
   "metadata": {},
   "outputs": [
    {
     "data": {
      "text/plain": [
       "\n",
       "Call:\n",
       "lm(formula = data_model2_Y_train ~ first + second + third + forth, \n",
       "    data = data2)\n",
       "\n",
       "Residuals:\n",
       "    Min      1Q  Median      3Q     Max \n",
       "-3.4466 -0.6928  0.1935  0.9794  2.6969 \n",
       "\n",
       "Coefficients:\n",
       "            Estimate Std. Error t value Pr(>|t|)    \n",
       "(Intercept) 93.23147    0.19448 479.388  < 2e-16 ***\n",
       "first       -0.23926    0.09869  -2.424   0.0194 *  \n",
       "second      -0.87379    0.10701  -8.166 1.98e-10 ***\n",
       "third        0.19166    0.23635   0.811   0.4217    \n",
       "forth       -0.30520    0.26545  -1.150   0.2563    \n",
       "---\n",
       "Signif. codes:  0 ‘***’ 0.001 ‘**’ 0.01 ‘*’ 0.05 ‘.’ 0.1 ‘ ’ 1\n",
       "\n",
       "Residual standard error: 1.375 on 45 degrees of freedom\n",
       "Multiple R-squared:  0.6235,\tAdjusted R-squared:  0.5901 \n",
       "F-statistic: 18.63 on 4 and 45 DF,  p-value: 4.271e-09\n"
      ]
     },
     "metadata": {},
     "output_type": "display_data"
    }
   ],
   "source": [
    "data2 <- data.frame(PC_2$scores)\n",
    "\n",
    "colnames(data2) <- c('first','second','third','forth','5','6','7','8','9')\n",
    "\n",
    "model_2 <- lm(data_model2_Y_train~first+second+third+forth,data = data2)\n",
    "summary(model_2)"
   ]
  },
  {
   "cell_type": "markdown",
   "id": "c14fb6b1",
   "metadata": {},
   "source": [
    "Беремо найкращу модель з минулої лабораторної"
   ]
  },
  {
   "cell_type": "code",
   "execution_count": 63,
   "id": "fed71838",
   "metadata": {},
   "outputs": [
    {
     "data": {
      "text/plain": [
       "\n",
       "Call:\n",
       "lm(formula = tomorrow_apd ~ apd, data = df[(number_rows - 50):number_rows, \n",
       "    ])\n",
       "\n",
       "Residuals:\n",
       "    Min      1Q  Median      3Q     Max \n",
       "-3.0942 -0.5212 -0.0511  0.3741  6.3387 \n",
       "\n",
       "Coefficients:\n",
       "            Estimate Std. Error t value Pr(>|t|)    \n",
       "(Intercept)  1.99613    4.11481   0.485     0.63    \n",
       "apd          0.98205    0.04219  23.276   <2e-16 ***\n",
       "---\n",
       "Signif. codes:  0 ‘***’ 0.001 ‘**’ 0.01 ‘*’ 0.05 ‘.’ 0.1 ‘ ’ 1\n",
       "\n",
       "Residual standard error: 1.57 on 49 degrees of freedom\n",
       "Multiple R-squared:  0.9171,\tAdjusted R-squared:  0.9154 \n",
       "F-statistic: 541.8 on 1 and 49 DF,  p-value: < 2.2e-16\n"
      ]
     },
     "metadata": {},
     "output_type": "display_data"
    }
   ],
   "source": [
    "model_yesterday <-lm(tomorrow_apd~apd,data=df[(number_rows-50):number_rows,])\n",
    "summary(model_yesterday)"
   ]
  },
  {
   "cell_type": "code",
   "execution_count": 97,
   "id": "c049fbb2",
   "metadata": {},
   "outputs": [],
   "source": [
    "y_pred <- data_test$tomorrow_apd\n",
    "PC_test <- princomp(data_test[,1:9],cor =  T)\n",
    "data_X_test <- data.frame(PC_test$scores)\n",
    "rownames(data_X_test) <- 1:nrow(data_X_test)\n",
    "colnames(data_X_test) <- c('first','second','third','forth','5','6','7','8','9')"
   ]
  },
  {
   "cell_type": "markdown",
   "id": "625bef4d",
   "metadata": {},
   "source": [
    "Нижче код для того, щоб оцінити розміри для графіку"
   ]
  },
  {
   "cell_type": "code",
   "execution_count": 54,
   "id": "1636f607",
   "metadata": {},
   "outputs": [
    {
     "data": {
      "text/html": [
       "52.707695889071"
      ],
      "text/latex": [
       "52.707695889071"
      ],
      "text/markdown": [
       "52.707695889071"
      ],
      "text/plain": [
       "[1] 52.7077"
      ]
     },
     "metadata": {},
     "output_type": "display_data"
    },
    {
     "data": {
      "text/html": [
       "20.0866409645086"
      ],
      "text/latex": [
       "20.0866409645086"
      ],
      "text/markdown": [
       "20.0866409645086"
      ],
      "text/plain": [
       "[1] 20.08664"
      ]
     },
     "metadata": {},
     "output_type": "display_data"
    },
    {
     "data": {
      "text/html": [
       "15.9532295837273"
      ],
      "text/latex": [
       "15.9532295837273"
      ],
      "text/markdown": [
       "15.9532295837273"
      ],
      "text/plain": [
       "[1] 15.95323"
      ]
     },
     "metadata": {},
     "output_type": "display_data"
    },
    {
     "data": {
      "text/html": [
       "0.879597163023305"
      ],
      "text/latex": [
       "0.879597163023305"
      ],
      "text/markdown": [
       "0.879597163023305"
      ],
      "text/plain": [
       "[1] 0.8795972"
      ]
     },
     "metadata": {},
     "output_type": "display_data"
    }
   ],
   "source": [
    "max(resi_1)\n",
    "min(resi_1)\n",
    "max(resi_2)\n",
    "min(resi_2)"
   ]
  },
  {
   "cell_type": "markdown",
   "id": "064c7b0c",
   "metadata": {},
   "source": [
    "Оцінюємо успішність метрик за допомогою метрик mae та mse"
   ]
  },
  {
   "cell_type": "code",
   "execution_count": 119,
   "id": "519064ef",
   "metadata": {},
   "outputs": [
    {
     "name": "stdout",
     "output_type": "stream",
     "text": [
      "MAE:\n",
      "PC_1:  31.92864 \n",
      "PC_2 : 9.787028 \n",
      "model_yesterday 1.188752 \n",
      "model_all 1.175244\n",
      "MSE:\n",
      "PC_1: 1101.143 \n",
      "PC_2 : 120.3974 \n",
      "model_yesterday 3.674371 \n",
      "model_all 3.466081"
     ]
    }
   ],
   "source": [
    "cat('MAE:\\nPC_1: ',mae(y_pred,predict(model_1,data_X_test)),\n",
    "     '\\nPC_2 :',mae(y_pred,predict(model_2,data_X_test)),\n",
    "   '\\nmodel_yesterday',mae(y_pred,predict(model_yesterday,data_test)),\n",
    "   '\\nmodel_all',mae(y_pred,predict(model_all,data_test)))\n",
    "\n",
    "\n",
    "cat('\\nMSE:\\nPC_1:',mse(y_pred,predict(model_1,data_X_test)),\n",
    "     '\\nPC_2 :',mse(y_pred,predict(model_2,data_X_test)),\n",
    "   '\\nmodel_yesterday',mse(y_pred,predict(model_yesterday,data_test)),\n",
    "   '\\nmodel_all',mse(y_pred,predict(model_all,data_test)))\n"
   ]
  },
  {
   "cell_type": "markdown",
   "id": "0ff513b4",
   "metadata": {},
   "source": [
    "Ми можемо побачити, що наша регресія, що побудована на перших чотирьох компонентах і близько не стоїть поруч з звичайною регресією з минулої лабораторної (model_yesterday)  "
   ]
  },
  {
   "cell_type": "markdown",
   "id": "f7f72432",
   "metadata": {},
   "source": [
    "Також з найкращою моделі на компоненти спробуємо використати лише значущі компаненти"
   ]
  },
  {
   "cell_type": "code",
   "execution_count": 75,
   "id": "23b2ce79",
   "metadata": {},
   "outputs": [
    {
     "data": {
      "text/plain": [
       "\n",
       "Call:\n",
       "lm(formula = data_model2_Y_train ~ first + second, data = data2)\n",
       "\n",
       "Residuals:\n",
       "    Min      1Q  Median      3Q     Max \n",
       "-3.6677 -0.7753  0.2781  0.8904  2.4483 \n",
       "\n",
       "Coefficients:\n",
       "            Estimate Std. Error t value Pr(>|t|)    \n",
       "(Intercept) 93.23147    0.19444 479.492  < 2e-16 ***\n",
       "first       -0.23926    0.09866  -2.425   0.0192 *  \n",
       "second      -0.87379    0.10698  -8.167 1.43e-10 ***\n",
       "---\n",
       "Signif. codes:  0 ‘***’ 0.001 ‘**’ 0.01 ‘*’ 0.05 ‘.’ 0.1 ‘ ’ 1\n",
       "\n",
       "Residual standard error: 1.375 on 47 degrees of freedom\n",
       "Multiple R-squared:  0.607,\tAdjusted R-squared:  0.5903 \n",
       "F-statistic: 36.29 on 2 and 47 DF,  p-value: 2.942e-10\n"
      ]
     },
     "metadata": {},
     "output_type": "display_data"
    }
   ],
   "source": [
    "model_2_signif <- lm(data_model2_Y_train~first+second,data = data2)\n",
    "summary(model_2_signif)"
   ]
  },
  {
   "cell_type": "markdown",
   "id": "bd1628df",
   "metadata": {},
   "source": [
    "Намалюємо всі наші моделі. По х номер прогнозованої змінної. По Y різниця між тестовою  величиною і прогнозованою"
   ]
  },
  {
   "cell_type": "code",
   "execution_count": 99,
   "id": "69fe3073",
   "metadata": {},
   "outputs": [
    {
     "data": {
      "text/plain": [
       "\n",
       "Call:\n",
       "lm(formula = tomorrow_apd ~ . - tomorrow_apd - apd, data = df[(number_rows - \n",
       "    50):number_rows, ])\n",
       "\n",
       "Residuals:\n",
       "    Min      1Q  Median      3Q     Max \n",
       "-3.4701 -0.9844 -0.2693  1.2882  6.7459 \n",
       "\n",
       "Coefficients:\n",
       "            Estimate Std. Error t value Pr(>|t|)    \n",
       "(Intercept) 94.76930   28.01091   3.383 0.001586 ** \n",
       "amgn         0.50324    0.14089   3.572 0.000923 ***\n",
       "amp          1.93001    0.44679   4.320 9.68e-05 ***\n",
       "amt         -0.14082    0.20870  -0.675 0.503606    \n",
       "amzn        -0.07957    0.04901  -1.623 0.112171    \n",
       "an          -0.15408    0.41761  -0.369 0.714062    \n",
       "anf         -0.10216    0.32151  -0.318 0.752286    \n",
       "aon         -1.36207    0.57489  -2.369 0.022615 *  \n",
       "apa         -0.15864    0.23441  -0.677 0.502359    \n",
       "apc         -0.70754    0.31802  -2.225 0.031656 *  \n",
       "---\n",
       "Signif. codes:  0 ‘***’ 0.001 ‘**’ 0.01 ‘*’ 0.05 ‘.’ 0.1 ‘ ’ 1\n",
       "\n",
       "Residual standard error: 1.926 on 41 degrees of freedom\n",
       "Multiple R-squared:  0.8955,\tAdjusted R-squared:  0.8725 \n",
       "F-statistic: 39.03 on 9 and 41 DF,  p-value: < 2.2e-16\n"
      ]
     },
     "metadata": {},
     "output_type": "display_data"
    }
   ],
   "source": [
    "model_all <-lm(tomorrow_apd~.-tomorrow_apd-apd,data=df[(number_rows-50):number_rows,])\n",
    "summary(model_all)"
   ]
  },
  {
   "cell_type": "code",
   "execution_count": 111,
   "id": "bf6c1b4b",
   "metadata": {},
   "outputs": [
    {
     "data": {
      "image/png": "[encoded data removed]",
      "text/plain": [
       "plot without title"
      ]
     },
     "metadata": {
      "image/png": {
       "height": 420,
       "width": 420
      }
     },
     "output_type": "display_data"
    }
   ],
   "source": [
    "resi_1 <-y_pred-predict(model_1,data_X_test)\n",
    "resi_2 <-y_pred-predict(model_2,data_X_test)\n",
    "resi_2_signif <- y_pred-predict(model_2,data_X_test)\n",
    "resi_lab_1 <- y_pred-predict(model_yesterday,data_test)\n",
    "resi_lab_1_all <- y_pred-predict(model_all,data_test)\n",
    "plot(resi_1,type=\"l\",col=\"red\",ylim = c(-10,55))\n",
    "lines(resi_2,col=\"blue\")\n",
    "lines(resi_2_signif,col=\"green\")\n",
    "lines(resi_lab_1,col=\"yellow\")\n",
    "lines(resi_lab_1_all,col=\"pink\")\n",
    "legend(1, 6, legend=c(\"model 1\", \"model 2\",\"model 2 signif\",'model from lab 1 yesterday','resi_lab_1_all'),\n",
    "       col=c(\"red\", \"blue\",\"green\",'yellow','pink'),lwd =2,cex=0.8)"
   ]
  },
  {
   "cell_type": "markdown",
   "id": "addf588f",
   "metadata": {},
   "source": [
    "Нам доволі важко помітити різницю між model from lab 1 yesterday та resi_lab_1_all. Тому покажемо їх окремо на більшому графіку"
   ]
  },
  {
   "cell_type": "code",
   "execution_count": 114,
   "id": "d79060c5",
   "metadata": {},
   "outputs": [
    {
     "data": {
      "image/png": "[encoded data removed]",
      "text/plain": [
       "plot without title"
      ]
     },
     "metadata": {
      "image/png": {
       "height": 420,
       "width": 420
      }
     },
     "output_type": "display_data"
    }
   ],
   "source": [
    "plot(resi_lab_1,type=\"l\",col=\"red\",ylim = c(-5,7))\n",
    "lines(resi_lab_1_all,col=\"pink\")"
   ]
  },
  {
   "cell_type": "markdown",
   "id": "cc018925",
   "metadata": {},
   "source": [
    "У насшому випадку дві моделі з минулої лабораторної майже ідентичні, але трішки краще модель, що має всі регресори в собі"
   ]
  },
  {
   "cell_type": "markdown",
   "id": "461b3717",
   "metadata": {},
   "source": [
    "Знайдемо коефіцієнти нашої моделі з значущими коефіцієнтами  відносно початкових змінних. Для цього перемножимо матрицю з коефіцієнтами компонент на прогноз головних компонент"
   ]
  },
  {
   "cell_type": "code",
   "execution_count": 94,
   "id": "c2f20057",
   "metadata": {},
   "outputs": [
    {
     "data": {
      "text/plain": [
       "\n",
       "Loadings:\n",
       "     Comp.1 Comp.2 Comp.3 Comp.4 Comp.5 Comp.6 Comp.7 Comp.8 Comp.9\n",
       "amgn  0.444  0.113  0.161  0.426         0.692         0.285       \n",
       "amp         -0.538                       0.145  0.176 -0.314  0.744\n",
       "amt   0.457  0.184  0.227               -0.120  0.345 -0.730 -0.189\n",
       "amzn -0.236 -0.425 -0.343  0.248 -0.408  0.232  0.350        -0.487\n",
       "an    0.385 -0.148 -0.513 -0.504  0.201  0.316 -0.336 -0.155 -0.189\n",
       "anf   0.438         0.108 -0.337 -0.714 -0.163         0.335  0.146\n",
       "aon   0.221 -0.438  0.203  0.445        -0.222 -0.657 -0.121 -0.134\n",
       "apa  -0.166 -0.370  0.688 -0.432  0.160  0.264               -0.278\n",
       "apc   0.346 -0.351 -0.111         0.491 -0.432  0.408  0.361 -0.124\n",
       "\n",
       "               Comp.1 Comp.2 Comp.3 Comp.4 Comp.5 Comp.6 Comp.7 Comp.8 Comp.9\n",
       "SS loadings     1.000  1.000  1.000  1.000  1.000  1.000  1.000  1.000  1.000\n",
       "Proportion Var  0.111  0.111  0.111  0.111  0.111  0.111  0.111  0.111  0.111\n",
       "Cumulative Var  0.111  0.222  0.333  0.444  0.556  0.667  0.778  0.889  1.000"
      ]
     },
     "metadata": {},
     "output_type": "display_data"
    }
   ],
   "source": [
    "loadings(PC_2)"
   ]
  },
  {
   "cell_type": "markdown",
   "id": "6e7ea2a9",
   "metadata": {},
   "source": [
    "У створенні головних компонент повпливати всі початкові регресори. Давайте знайдемо коефіцієнти відносно початкових змінних"
   ]
  },
  {
   "cell_type": "code",
   "execution_count": 76,
   "id": "4cb621f7",
   "metadata": {},
   "outputs": [
    {
     "data": {
      "text/html": [
       "<table class=\"dataframe\">\n",
       "<caption>A data.frame: 9 × 2</caption>\n",
       "<thead>\n",
       "\t<tr><th></th><th scope=col>Comp.1</th><th scope=col>Comp.2</th></tr>\n",
       "\t<tr><th></th><th scope=col>&lt;dbl&gt;</th><th scope=col>&lt;dbl&gt;</th></tr>\n",
       "</thead>\n",
       "<tbody>\n",
       "\t<tr><th scope=row>amgn</th><td> 0.44440974</td><td> 0.1132310</td></tr>\n",
       "\t<tr><th scope=row>amp</th><td>-0.03884292</td><td>-0.5381928</td></tr>\n",
       "\t<tr><th scope=row>amt</th><td> 0.45749689</td><td> 0.1841885</td></tr>\n",
       "\t<tr><th scope=row>amzn</th><td>-0.23557786</td><td>-0.4248880</td></tr>\n",
       "\t<tr><th scope=row>an</th><td> 0.38515164</td><td>-0.1482235</td></tr>\n",
       "\t<tr><th scope=row>anf</th><td> 0.43766537</td><td>-0.0951042</td></tr>\n",
       "\t<tr><th scope=row>aon</th><td> 0.22064360</td><td>-0.4382439</td></tr>\n",
       "\t<tr><th scope=row>apa</th><td>-0.16637433</td><td>-0.3695673</td></tr>\n",
       "\t<tr><th scope=row>apc</th><td> 0.34631502</td><td>-0.3513109</td></tr>\n",
       "</tbody>\n",
       "</table>\n"
      ],
      "text/latex": [
       "A data.frame: 9 × 2\n",
       "\\begin{tabular}{r|ll}\n",
       "  & Comp.1 & Comp.2\\\\\n",
       "  & <dbl> & <dbl>\\\\\n",
       "\\hline\n",
       "\tamgn &  0.44440974 &  0.1132310\\\\\n",
       "\tamp & -0.03884292 & -0.5381928\\\\\n",
       "\tamt &  0.45749689 &  0.1841885\\\\\n",
       "\tamzn & -0.23557786 & -0.4248880\\\\\n",
       "\tan &  0.38515164 & -0.1482235\\\\\n",
       "\tanf &  0.43766537 & -0.0951042\\\\\n",
       "\taon &  0.22064360 & -0.4382439\\\\\n",
       "\tapa & -0.16637433 & -0.3695673\\\\\n",
       "\tapc &  0.34631502 & -0.3513109\\\\\n",
       "\\end{tabular}\n"
      ],
      "text/markdown": [
       "\n",
       "A data.frame: 9 × 2\n",
       "\n",
       "| <!--/--> | Comp.1 &lt;dbl&gt; | Comp.2 &lt;dbl&gt; |\n",
       "|---|---|---|\n",
       "| amgn |  0.44440974 |  0.1132310 |\n",
       "| amp | -0.03884292 | -0.5381928 |\n",
       "| amt |  0.45749689 |  0.1841885 |\n",
       "| amzn | -0.23557786 | -0.4248880 |\n",
       "| an |  0.38515164 | -0.1482235 |\n",
       "| anf |  0.43766537 | -0.0951042 |\n",
       "| aon |  0.22064360 | -0.4382439 |\n",
       "| apa | -0.16637433 | -0.3695673 |\n",
       "| apc |  0.34631502 | -0.3513109 |\n",
       "\n"
      ],
      "text/plain": [
       "     Comp.1      Comp.2    \n",
       "amgn  0.44440974  0.1132310\n",
       "amp  -0.03884292 -0.5381928\n",
       "amt   0.45749689  0.1841885\n",
       "amzn -0.23557786 -0.4248880\n",
       "an    0.38515164 -0.1482235\n",
       "anf   0.43766537 -0.0951042\n",
       "aon   0.22064360 -0.4382439\n",
       "apa  -0.16637433 -0.3695673\n",
       "apc   0.34631502 -0.3513109"
      ]
     },
     "metadata": {},
     "output_type": "display_data"
    },
    {
     "data": {
      "text/html": [
       "<style>\n",
       ".dl-inline {width: auto; margin:0; padding: 0}\n",
       ".dl-inline>dt, .dl-inline>dd {float: none; width: auto; display: inline-block}\n",
       ".dl-inline>dt::after {content: \":\\0020\"; padding-right: .5ex}\n",
       ".dl-inline>dt:not(:first-of-type) {padding-left: .5ex}\n",
       "</style><dl class=dl-inline><dt>(Intercept)</dt><dd>93.231472</dd><dt>first</dt><dd>-0.239256860082548</dd><dt>second</dt><dd>-0.873785938623814</dd></dl>\n"
      ],
      "text/latex": [
       "\\begin{description*}\n",
       "\\item[(Intercept)] 93.231472\n",
       "\\item[first] -0.239256860082548\n",
       "\\item[second] -0.873785938623814\n",
       "\\end{description*}\n"
      ],
      "text/markdown": [
       "(Intercept)\n",
       ":   93.231472first\n",
       ":   -0.239256860082548second\n",
       ":   -0.873785938623814\n",
       "\n"
      ],
      "text/plain": [
       "(Intercept)       first      second \n",
       " 93.2314720  -0.2392569  -0.8737859 "
      ]
     },
     "metadata": {},
     "output_type": "display_data"
    }
   ],
   "source": [
    "l <- PC_2$loadings\n",
    "loads <- data.frame(matrix(as.numeric(l), attributes(l)$dim, dimnames=attributes(l)$dimnames))[,1:2]\n",
    "loads\n",
    "\n",
    "k <- model_2_signif$coefficients\n",
    "k"
   ]
  },
  {
   "cell_type": "code",
   "execution_count": 84,
   "id": "dd12ea5a",
   "metadata": {},
   "outputs": [
    {
     "data": {
      "text/html": [
       "<table class=\"dataframe\">\n",
       "<caption>A data.frame: 10 × 1</caption>\n",
       "<thead>\n",
       "\t<tr><th></th><th scope=col>rowSums.result.</th></tr>\n",
       "\t<tr><th></th><th scope=col>&lt;dbl&gt;</th></tr>\n",
       "</thead>\n",
       "<tbody>\n",
       "\t<tr><th scope=row>amgn</th><td>-0.20526771</td></tr>\n",
       "\t<tr><th scope=row>amp</th><td> 0.16270671</td></tr>\n",
       "\t<tr><th scope=row>amt</th><td>-0.27040055</td></tr>\n",
       "\t<tr><th scope=row>amzn</th><td> 0.30750200</td></tr>\n",
       "\t<tr><th scope=row>an</th><td> 0.03736548</td></tr>\n",
       "\t<tr><th scope=row>anf</th><td>-0.35967151</td></tr>\n",
       "\t<tr><th scope=row>aon</th><td> 0.33014084</td></tr>\n",
       "\t<tr><th scope=row>apa</th><td> 0.23379707</td></tr>\n",
       "\t<tr><th scope=row>apc</th><td> 0.22411226</td></tr>\n",
       "\t<tr><th scope=row>(Intercept)</th><td>93.23147200</td></tr>\n",
       "</tbody>\n",
       "</table>\n"
      ],
      "text/latex": [
       "A data.frame: 10 × 1\n",
       "\\begin{tabular}{r|l}\n",
       "  & rowSums.result.\\\\\n",
       "  & <dbl>\\\\\n",
       "\\hline\n",
       "\tamgn & -0.20526771\\\\\n",
       "\tamp &  0.16270671\\\\\n",
       "\tamt & -0.27040055\\\\\n",
       "\tamzn &  0.30750200\\\\\n",
       "\tan &  0.03736548\\\\\n",
       "\tanf & -0.35967151\\\\\n",
       "\taon &  0.33014084\\\\\n",
       "\tapa &  0.23379707\\\\\n",
       "\tapc &  0.22411226\\\\\n",
       "\t(Intercept) & 93.23147200\\\\\n",
       "\\end{tabular}\n"
      ],
      "text/markdown": [
       "\n",
       "A data.frame: 10 × 1\n",
       "\n",
       "| <!--/--> | rowSums.result. &lt;dbl&gt; |\n",
       "|---|---|\n",
       "| amgn | -0.20526771 |\n",
       "| amp |  0.16270671 |\n",
       "| amt | -0.27040055 |\n",
       "| amzn |  0.30750200 |\n",
       "| an |  0.03736548 |\n",
       "| anf | -0.35967151 |\n",
       "| aon |  0.33014084 |\n",
       "| apa |  0.23379707 |\n",
       "| apc |  0.22411226 |\n",
       "| (Intercept) | 93.23147200 |\n",
       "\n"
      ],
      "text/plain": [
       "            rowSums.result.\n",
       "amgn        -0.20526771    \n",
       "amp          0.16270671    \n",
       "amt         -0.27040055    \n",
       "amzn         0.30750200    \n",
       "an           0.03736548    \n",
       "anf         -0.35967151    \n",
       "aon          0.33014084    \n",
       "apa          0.23379707    \n",
       "apc          0.22411226    \n",
       "(Intercept) 93.23147200    "
      ]
     },
     "metadata": {},
     "output_type": "display_data"
    }
   ],
   "source": [
    "result <- loads*k[2:3]\n",
    "resulted <- data.frame(rowSums(result))\n",
    "\n",
    "alpha <- data.frame(model_2_signif$coefficients[1])\n",
    "names(alpha)<- c('rowSums.result.')\n",
    "resulted2 <- rbind(resulted,alpha)\n",
    "\n",
    "resulted2"
   ]
  },
  {
   "cell_type": "code",
   "execution_count": 86,
   "id": "3da43832",
   "metadata": {},
   "outputs": [
    {
     "data": {
      "text/html": [
       "-0.205267734598815"
      ],
      "text/latex": [
       "-0.205267734598815"
      ],
      "text/markdown": [
       "-0.205267734598815"
      ],
      "text/plain": [
       "[1] -0.2052677"
      ]
     },
     "metadata": {},
     "output_type": "display_data"
    }
   ],
   "source": [
    "0.44440974*-0.239256860082548+0.1132310*-0.873785938623814"
   ]
  },
  {
   "cell_type": "markdown",
   "id": "d24f48f9",
   "metadata": {},
   "source": [
    "Перевірка пройшла успішно "
   ]
  },
  {
   "cell_type": "markdown",
   "id": "31a8e511",
   "metadata": {},
   "source": [
    "Також давайте подивимось на коефіцієнти з моделі з першої лабораторної. Оскільки наша найкраща модель містила лише один регресор, то використаємо іншу модель"
   ]
  },
  {
   "cell_type": "code",
   "execution_count": 88,
   "id": "9a611ab1",
   "metadata": {},
   "outputs": [
    {
     "data": {
      "text/plain": [
       "\n",
       "Call:\n",
       "lm(formula = tomorrow_apd ~ . - tomorrow_apd - apd, data = df[(number_rows - \n",
       "    50):number_rows, ])\n",
       "\n",
       "Residuals:\n",
       "    Min      1Q  Median      3Q     Max \n",
       "-3.4701 -0.9844 -0.2693  1.2882  6.7459 \n",
       "\n",
       "Coefficients:\n",
       "            Estimate Std. Error t value Pr(>|t|)    \n",
       "(Intercept) 94.76930   28.01091   3.383 0.001586 ** \n",
       "amgn         0.50324    0.14089   3.572 0.000923 ***\n",
       "amp          1.93001    0.44679   4.320 9.68e-05 ***\n",
       "amt         -0.14082    0.20870  -0.675 0.503606    \n",
       "amzn        -0.07957    0.04901  -1.623 0.112171    \n",
       "an          -0.15408    0.41761  -0.369 0.714062    \n",
       "anf         -0.10216    0.32151  -0.318 0.752286    \n",
       "aon         -1.36207    0.57489  -2.369 0.022615 *  \n",
       "apa         -0.15864    0.23441  -0.677 0.502359    \n",
       "apc         -0.70754    0.31802  -2.225 0.031656 *  \n",
       "---\n",
       "Signif. codes:  0 ‘***’ 0.001 ‘**’ 0.01 ‘*’ 0.05 ‘.’ 0.1 ‘ ’ 1\n",
       "\n",
       "Residual standard error: 1.926 on 41 degrees of freedom\n",
       "Multiple R-squared:  0.8955,\tAdjusted R-squared:  0.8725 \n",
       "F-statistic: 39.03 on 9 and 41 DF,  p-value: < 2.2e-16\n"
      ]
     },
     "metadata": {},
     "output_type": "display_data"
    }
   ],
   "source": [
    "model_all <-lm(tomorrow_apd~.-tomorrow_apd-apd,data=df[(number_rows-50):number_rows,])\n",
    "summary(model_all)"
   ]
  },
  {
   "cell_type": "code",
   "execution_count": 98,
   "id": "25fbab67",
   "metadata": {
    "scrolled": false
   },
   "outputs": [
    {
     "data": {
      "text/html": [
       "<table class=\"dataframe\">\n",
       "<caption>A data.frame: 10 × 1</caption>\n",
       "<thead>\n",
       "\t<tr><th></th><th scope=col>rowSums.result.</th></tr>\n",
       "\t<tr><th></th><th scope=col>&lt;dbl&gt;</th></tr>\n",
       "</thead>\n",
       "<tbody>\n",
       "\t<tr><th scope=row>amgn</th><td>-0.20526771</td></tr>\n",
       "\t<tr><th scope=row>amp</th><td> 0.16270671</td></tr>\n",
       "\t<tr><th scope=row>amt</th><td>-0.27040055</td></tr>\n",
       "\t<tr><th scope=row>amzn</th><td> 0.30750200</td></tr>\n",
       "\t<tr><th scope=row>an</th><td> 0.03736548</td></tr>\n",
       "\t<tr><th scope=row>anf</th><td>-0.35967151</td></tr>\n",
       "\t<tr><th scope=row>aon</th><td> 0.33014084</td></tr>\n",
       "\t<tr><th scope=row>apa</th><td> 0.23379707</td></tr>\n",
       "\t<tr><th scope=row>apc</th><td> 0.22411226</td></tr>\n",
       "\t<tr><th scope=row>(Intercept)</th><td>93.23147200</td></tr>\n",
       "</tbody>\n",
       "</table>\n"
      ],
      "text/latex": [
       "A data.frame: 10 × 1\n",
       "\\begin{tabular}{r|l}\n",
       "  & rowSums.result.\\\\\n",
       "  & <dbl>\\\\\n",
       "\\hline\n",
       "\tamgn & -0.20526771\\\\\n",
       "\tamp &  0.16270671\\\\\n",
       "\tamt & -0.27040055\\\\\n",
       "\tamzn &  0.30750200\\\\\n",
       "\tan &  0.03736548\\\\\n",
       "\tanf & -0.35967151\\\\\n",
       "\taon &  0.33014084\\\\\n",
       "\tapa &  0.23379707\\\\\n",
       "\tapc &  0.22411226\\\\\n",
       "\t(Intercept) & 93.23147200\\\\\n",
       "\\end{tabular}\n"
      ],
      "text/markdown": [
       "\n",
       "A data.frame: 10 × 1\n",
       "\n",
       "| <!--/--> | rowSums.result. &lt;dbl&gt; |\n",
       "|---|---|\n",
       "| amgn | -0.20526771 |\n",
       "| amp |  0.16270671 |\n",
       "| amt | -0.27040055 |\n",
       "| amzn |  0.30750200 |\n",
       "| an |  0.03736548 |\n",
       "| anf | -0.35967151 |\n",
       "| aon |  0.33014084 |\n",
       "| apa |  0.23379707 |\n",
       "| apc |  0.22411226 |\n",
       "| (Intercept) | 93.23147200 |\n",
       "\n"
      ],
      "text/plain": [
       "            rowSums.result.\n",
       "amgn        -0.20526771    \n",
       "amp          0.16270671    \n",
       "amt         -0.27040055    \n",
       "amzn         0.30750200    \n",
       "an           0.03736548    \n",
       "anf         -0.35967151    \n",
       "aon          0.33014084    \n",
       "apa          0.23379707    \n",
       "apc          0.22411226    \n",
       "(Intercept) 93.23147200    "
      ]
     },
     "metadata": {},
     "output_type": "display_data"
    },
    {
     "data": {
      "text/html": [
       "<table class=\"dataframe\">\n",
       "<caption>A data.frame: 10 × 1</caption>\n",
       "<thead>\n",
       "\t<tr><th></th><th scope=col>model_all.coefficients</th></tr>\n",
       "\t<tr><th></th><th scope=col>&lt;dbl&gt;</th></tr>\n",
       "</thead>\n",
       "<tbody>\n",
       "\t<tr><th scope=row>(Intercept)</th><td>94.76930315</td></tr>\n",
       "\t<tr><th scope=row>amgn</th><td> 0.50323846</td></tr>\n",
       "\t<tr><th scope=row>amp</th><td> 1.93000958</td></tr>\n",
       "\t<tr><th scope=row>amt</th><td>-0.14082425</td></tr>\n",
       "\t<tr><th scope=row>amzn</th><td>-0.07956594</td></tr>\n",
       "\t<tr><th scope=row>an</th><td>-0.15407999</td></tr>\n",
       "\t<tr><th scope=row>anf</th><td>-0.10216178</td></tr>\n",
       "\t<tr><th scope=row>aon</th><td>-1.36206526</td></tr>\n",
       "\t<tr><th scope=row>apa</th><td>-0.15863837</td></tr>\n",
       "\t<tr><th scope=row>apc</th><td>-0.70753940</td></tr>\n",
       "</tbody>\n",
       "</table>\n"
      ],
      "text/latex": [
       "A data.frame: 10 × 1\n",
       "\\begin{tabular}{r|l}\n",
       "  & model\\_all.coefficients\\\\\n",
       "  & <dbl>\\\\\n",
       "\\hline\n",
       "\t(Intercept) & 94.76930315\\\\\n",
       "\tamgn &  0.50323846\\\\\n",
       "\tamp &  1.93000958\\\\\n",
       "\tamt & -0.14082425\\\\\n",
       "\tamzn & -0.07956594\\\\\n",
       "\tan & -0.15407999\\\\\n",
       "\tanf & -0.10216178\\\\\n",
       "\taon & -1.36206526\\\\\n",
       "\tapa & -0.15863837\\\\\n",
       "\tapc & -0.70753940\\\\\n",
       "\\end{tabular}\n"
      ],
      "text/markdown": [
       "\n",
       "A data.frame: 10 × 1\n",
       "\n",
       "| <!--/--> | model_all.coefficients &lt;dbl&gt; |\n",
       "|---|---|\n",
       "| (Intercept) | 94.76930315 |\n",
       "| amgn |  0.50323846 |\n",
       "| amp |  1.93000958 |\n",
       "| amt | -0.14082425 |\n",
       "| amzn | -0.07956594 |\n",
       "| an | -0.15407999 |\n",
       "| anf | -0.10216178 |\n",
       "| aon | -1.36206526 |\n",
       "| apa | -0.15863837 |\n",
       "| apc | -0.70753940 |\n",
       "\n"
      ],
      "text/plain": [
       "            model_all.coefficients\n",
       "(Intercept) 94.76930315           \n",
       "amgn         0.50323846           \n",
       "amp          1.93000958           \n",
       "amt         -0.14082425           \n",
       "amzn        -0.07956594           \n",
       "an          -0.15407999           \n",
       "anf         -0.10216178           \n",
       "aon         -1.36206526           \n",
       "apa         -0.15863837           \n",
       "apc         -0.70753940           "
      ]
     },
     "metadata": {},
     "output_type": "display_data"
    }
   ],
   "source": [
    "resulted2\n",
    "resulted_lab_1 <- data.frame(model_all$coefficients)\n",
    "resulted_lab_1"
   ]
  },
  {
   "cell_type": "markdown",
   "id": "5593701e",
   "metadata": {},
   "source": [
    "Наскільки ми бачимо різниця коефіцієнтів у нашому випадку доволі суттєва. Єдина що залишається +- сталим , так це кофієент Intercept. "
   ]
  },
  {
   "cell_type": "markdown",
   "id": "cfad45f9",
   "metadata": {},
   "source": [
    "## Висновок"
   ]
  },
  {
   "cell_type": "markdown",
   "id": "12b534f2",
   "metadata": {},
   "source": [
    "Модель, що ми пробували цього разу обєктивно справилась гірше. І це пояснюється одним ключовим фактором. Модель з лабораторної 1 тренувалась на всьому обєму даних, а моделі через PCA ні. Обєм дисперсії різниця в цих двух регресіях на 10 відсотків.\n",
    "\n",
    "Зокрема нам навіть і не варто було використовувати PCA регресію, адже кількість регресорів у нас доволі мінімальна. Також обєм даних, що у нас є не повинен займати довго часу для побудови регресорів, тому використання її для наших цілей недоцільне"
   ]
  }
 ],
 "metadata": {
  "kernelspec": {
   "display_name": "R",
   "language": "R",
   "name": "ir"
  },
  "language_info": {
   "codemirror_mode": "r",
   "file_extension": ".r",
   "mimetype": "text/x-r-source",
   "name": "R",
   "pygments_lexer": "r",
   "version": "4.2.2"
  }
 },
 "nbformat": 4,
 "nbformat_minor": 5
}
